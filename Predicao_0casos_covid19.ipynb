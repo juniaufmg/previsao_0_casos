{
  "nbformat": 4,
  "nbformat_minor": 0,
  "metadata": {
    "colab": {
      "name": "TPFinal_ML_20201.ipynb",
      "provenance": [],
      "include_colab_link": true
    },
    "kernelspec": {
      "name": "python3",
      "display_name": "Python 3"
    },
    "language_info": {
      "name": "python"
    }
  },
  "cells": [
    {
      "cell_type": "markdown",
      "metadata": {
        "id": "view-in-github",
        "colab_type": "text"
      },
      "source": [
        "<a href=\"https://colab.research.google.com/github/juniaufmg/previsao_0_casos/blob/main/Predicao_0casos_covid19.ipynb\" target=\"_parent\"><img src=\"https://colab.research.google.com/assets/colab-badge.svg\" alt=\"Open In Colab\"/></a>"
      ]
    },
    {
      "cell_type": "markdown",
      "metadata": {
        "id": "UhAOCImLXzhA"
      },
      "source": [
        "#Universidade Federal de Minas Gerais\n",
        "\n",
        "Disciplina: Aprendizado de Máquina 2021.1\n",
        "\n",
        "Trabalho feito por: Júnia Maísa\n",
        "\n",
        "LINK: https://youtu.be/l2WGfjb3nkE (YouTube)\n",
        "\n",
        "https://drive.google.com/drive/folders/1QPa8uGS0Y514jzUfvxJziGZzmoJHnjpK?usp=sharing (Link Alternativo - Google Drive)\n",
        "\n",
        "https://drive.google.com/file/d/1xdldr5R6t9qPrwvvX_x-gtE45MyY3Y-O/view?usp=sharing (Link do DATASET tratado)\n",
        "\n"
      ]
    },
    {
      "cell_type": "code",
      "metadata": {
        "colab": {
          "base_uri": "https://localhost:8080/"
        },
        "id": "8uxwKoTzDjNX",
        "outputId": "bb7ee617-b70d-43b4-d07d-eb64ea94f02f"
      },
      "source": [
        "#Bibliotecas necessarias para o trabalho\n",
        "import pandas as pd\n",
        "import numpy as np\n",
        "from google.colab import drive\n",
        "drive.mount('/content/drive')\n",
        "import matplotlib.pyplot as plt\n",
        "import seaborn as sns\n",
        "import scipy.stats as stats\n",
        "import pandas as pd\n",
        "import numpy as np\n",
        "import math\n",
        "import plotly.graph_objects as Dash\n",
        "from keras.models import Sequential\n",
        "from keras.layers import Dense, LSTM\n",
        "from sklearn.preprocessing import MinMaxScaler\n",
        "%matplotlib inline\n",
        "from pandas import datetime\n",
        "import math, time\n",
        "import itertools\n",
        "from operator import itemgetter\n",
        "from sklearn.metrics import mean_squared_error\n",
        "from math import sqrt\n",
        "from keras.models import Sequential\n",
        "from keras.layers.core import Dense, Dropout, Activation\n",
        "from keras.layers.recurrent import LSTM\n",
        "from keras.models import load_model\n",
        "import keras\n",
        "import h5py\n",
        "import requests\n",
        "import os"
      ],
      "execution_count": null,
      "outputs": [
        {
          "output_type": "stream",
          "name": "stdout",
          "text": [
            "Drive already mounted at /content/drive; to attempt to forcibly remount, call drive.mount(\"/content/drive\", force_remount=True).\n"
          ]
        },
        {
          "output_type": "stream",
          "name": "stderr",
          "text": [
            "/usr/local/lib/python3.7/dist-packages/ipykernel_launcher.py:17: FutureWarning:\n",
            "\n",
            "The pandas.datetime class is deprecated and will be removed from pandas in a future version. Import from datetime module instead.\n",
            "\n"
          ]
        }
      ]
    },
    {
      "cell_type": "code",
      "metadata": {
        "colab": {
          "base_uri": "https://localhost:8080/",
          "height": 204
        },
        "id": "aAmTkvukD41y",
        "outputId": "f6fcdf13-8c85-487c-bf9f-18d99f004700"
      },
      "source": [
        "#lendo a planilha de dados tratada com os dados não acumulados de vacinação\n",
        "df2 = pd.read_csv('/content/drive/My Drive/filename.csv', sep=',')\n",
        "df2.head()"
      ],
      "execution_count": null,
      "outputs": [
        {
          "output_type": "execute_result",
          "data": {
            "text/html": [
              "<div>\n",
              "<style scoped>\n",
              "    .dataframe tbody tr th:only-of-type {\n",
              "        vertical-align: middle;\n",
              "    }\n",
              "\n",
              "    .dataframe tbody tr th {\n",
              "        vertical-align: top;\n",
              "    }\n",
              "\n",
              "    .dataframe thead th {\n",
              "        text-align: right;\n",
              "    }\n",
              "</style>\n",
              "<table border=\"1\" class=\"dataframe\">\n",
              "  <thead>\n",
              "    <tr style=\"text-align: right;\">\n",
              "      <th></th>\n",
              "      <th>Unnamed: 0</th>\n",
              "      <th>quant2</th>\n",
              "      <th>data</th>\n",
              "      <th>quant1</th>\n",
              "    </tr>\n",
              "  </thead>\n",
              "  <tbody>\n",
              "    <tr>\n",
              "      <th>0</th>\n",
              "      <td>0</td>\n",
              "      <td>641</td>\n",
              "      <td>2021-03-13</td>\n",
              "      <td>7468</td>\n",
              "    </tr>\n",
              "    <tr>\n",
              "      <th>1</th>\n",
              "      <td>1</td>\n",
              "      <td>197</td>\n",
              "      <td>2021-03-14</td>\n",
              "      <td>1486</td>\n",
              "    </tr>\n",
              "    <tr>\n",
              "      <th>2</th>\n",
              "      <td>2</td>\n",
              "      <td>4793</td>\n",
              "      <td>2021-03-15</td>\n",
              "      <td>19403</td>\n",
              "    </tr>\n",
              "    <tr>\n",
              "      <th>3</th>\n",
              "      <td>3</td>\n",
              "      <td>4445</td>\n",
              "      <td>2021-03-16</td>\n",
              "      <td>49787</td>\n",
              "    </tr>\n",
              "    <tr>\n",
              "      <th>4</th>\n",
              "      <td>4</td>\n",
              "      <td>5738</td>\n",
              "      <td>2021-03-17</td>\n",
              "      <td>43039</td>\n",
              "    </tr>\n",
              "  </tbody>\n",
              "</table>\n",
              "</div>"
            ],
            "text/plain": [
              "   Unnamed: 0  quant2        data  quant1\n",
              "0           0     641  2021-03-13    7468\n",
              "1           1     197  2021-03-14    1486\n",
              "2           2    4793  2021-03-15   19403\n",
              "3           3    4445  2021-03-16   49787\n",
              "4           4    5738  2021-03-17   43039"
            ]
          },
          "metadata": {},
          "execution_count": 500
        }
      ]
    },
    {
      "cell_type": "markdown",
      "metadata": {
        "id": "Ir34rsskO3HS"
      },
      "source": [
        "#Plotando gráfico dos dados"
      ]
    },
    {
      "cell_type": "code",
      "metadata": {
        "id": "MKqqvXtPGLd3",
        "colab": {
          "base_uri": "https://localhost:8080/",
          "height": 266
        },
        "outputId": "3f4dc85a-3335-4902-9070-b1715922086e"
      },
      "source": [
        "#plotando grafico para conhecer os dados\n",
        "#x=df2['data']\n",
        "#y=df2['quant1']\n",
        "#plt.plot(x,y, label='Primeira Dose')\n",
        "\n",
        "x=df2['data']\n",
        "y=df2['quant1']\n",
        "plt.plot(x,y,label='Primeira Dose')\n",
        "plt.legend()\n",
        "\n",
        "plt.show()\n",
        "\n",
        "#x=df2['data']\n",
        "#y=df2['ocupacaoConfirmadoUti']\n",
        "#plt.plot(x,y, label='Ocupação UTI')\n",
        "\n",
        "#x=df2['data']\n",
        "#y=df2['ocupacaoConfirmadoCli']\n",
        "#plt.plot(x,y, label = 'Ocupação CTI')\n",
        "#plt.legend()\n",
        "\n",
        "plt.show()"
      ],
      "execution_count": null,
      "outputs": [
        {
          "output_type": "display_data",
          "data": {
            "image/png": "[encoded data removed]",
            "text/plain": [
              "<Figure size 432x288 with 1 Axes>"
            ]
          },
          "metadata": {
            "needs_background": "light"
          }
        }
      ]
    },
    {
      "cell_type": "code",
      "metadata": {
        "id": "C-hE2ZC4e8u5",
        "colab": {
          "base_uri": "https://localhost:8080/",
          "height": 419
        },
        "outputId": "3400de91-336f-437b-89c1-eb6b40eb4ef2"
      },
      "source": [
        "df2['data']=pd.to_datetime(df2.data)\n",
        "df2"
      ],
      "execution_count": null,
      "outputs": [
        {
          "output_type": "execute_result",
          "data": {
            "text/html": [
              "<div>\n",
              "<style scoped>\n",
              "    .dataframe tbody tr th:only-of-type {\n",
              "        vertical-align: middle;\n",
              "    }\n",
              "\n",
              "    .dataframe tbody tr th {\n",
              "        vertical-align: top;\n",
              "    }\n",
              "\n",
              "    .dataframe thead th {\n",
              "        text-align: right;\n",
              "    }\n",
              "</style>\n",
              "<table border=\"1\" class=\"dataframe\">\n",
              "  <thead>\n",
              "    <tr style=\"text-align: right;\">\n",
              "      <th></th>\n",
              "      <th>Unnamed: 0</th>\n",
              "      <th>quant2</th>\n",
              "      <th>data</th>\n",
              "      <th>quant1</th>\n",
              "    </tr>\n",
              "  </thead>\n",
              "  <tbody>\n",
              "    <tr>\n",
              "      <th>0</th>\n",
              "      <td>0</td>\n",
              "      <td>641</td>\n",
              "      <td>2021-03-13</td>\n",
              "      <td>7468</td>\n",
              "    </tr>\n",
              "    <tr>\n",
              "      <th>1</th>\n",
              "      <td>1</td>\n",
              "      <td>197</td>\n",
              "      <td>2021-03-14</td>\n",
              "      <td>1486</td>\n",
              "    </tr>\n",
              "    <tr>\n",
              "      <th>2</th>\n",
              "      <td>2</td>\n",
              "      <td>4793</td>\n",
              "      <td>2021-03-15</td>\n",
              "      <td>19403</td>\n",
              "    </tr>\n",
              "    <tr>\n",
              "      <th>3</th>\n",
              "      <td>3</td>\n",
              "      <td>4445</td>\n",
              "      <td>2021-03-16</td>\n",
              "      <td>49787</td>\n",
              "    </tr>\n",
              "    <tr>\n",
              "      <th>4</th>\n",
              "      <td>4</td>\n",
              "      <td>5738</td>\n",
              "      <td>2021-03-17</td>\n",
              "      <td>43039</td>\n",
              "    </tr>\n",
              "    <tr>\n",
              "      <th>...</th>\n",
              "      <td>...</td>\n",
              "      <td>...</td>\n",
              "      <td>...</td>\n",
              "      <td>...</td>\n",
              "    </tr>\n",
              "    <tr>\n",
              "      <th>159</th>\n",
              "      <td>159</td>\n",
              "      <td>47240</td>\n",
              "      <td>2021-08-17</td>\n",
              "      <td>86499</td>\n",
              "    </tr>\n",
              "    <tr>\n",
              "      <th>160</th>\n",
              "      <td>160</td>\n",
              "      <td>51504</td>\n",
              "      <td>2021-08-18</td>\n",
              "      <td>84450</td>\n",
              "    </tr>\n",
              "    <tr>\n",
              "      <th>161</th>\n",
              "      <td>161</td>\n",
              "      <td>32786</td>\n",
              "      <td>2021-08-19</td>\n",
              "      <td>98928</td>\n",
              "    </tr>\n",
              "    <tr>\n",
              "      <th>162</th>\n",
              "      <td>162</td>\n",
              "      <td>34986</td>\n",
              "      <td>2021-08-20</td>\n",
              "      <td>50380</td>\n",
              "    </tr>\n",
              "    <tr>\n",
              "      <th>163</th>\n",
              "      <td>163</td>\n",
              "      <td>5175</td>\n",
              "      <td>2021-08-21</td>\n",
              "      <td>38607</td>\n",
              "    </tr>\n",
              "  </tbody>\n",
              "</table>\n",
              "<p>164 rows × 4 columns</p>\n",
              "</div>"
            ],
            "text/plain": [
              "     Unnamed: 0  quant2       data  quant1\n",
              "0             0     641 2021-03-13    7468\n",
              "1             1     197 2021-03-14    1486\n",
              "2             2    4793 2021-03-15   19403\n",
              "3             3    4445 2021-03-16   49787\n",
              "4             4    5738 2021-03-17   43039\n",
              "..          ...     ...        ...     ...\n",
              "159         159   47240 2021-08-17   86499\n",
              "160         160   51504 2021-08-18   84450\n",
              "161         161   32786 2021-08-19   98928\n",
              "162         162   34986 2021-08-20   50380\n",
              "163         163    5175 2021-08-21   38607\n",
              "\n",
              "[164 rows x 4 columns]"
            ]
          },
          "metadata": {},
          "execution_count": 502
        }
      ]
    },
    {
      "cell_type": "markdown",
      "metadata": {
        "id": "X-A_i5-QO8Sa"
      },
      "source": [
        "#Aplicando Keras"
      ]
    },
    {
      "cell_type": "code",
      "metadata": {
        "id": "r8Ve2ePzs1w4"
      },
      "source": [
        "#A seguir estamos normalizando os dados de quant1, pois com ele não é necessario\n",
        "#usar a data ja que vamos usar uma rede neural LSTM para desenvolver\n",
        "#nossa serie temporal com taxa de amotragem de área.\n",
        "#lembrando que cada linha do nosso dataset é uma data, ou seja, um dia.\n",
        "min_max_scaler = preprocessing.MinMaxScaler(feature_range=(0, 1))\n",
        "dataset = min_max_scaler.fit_transform(df2['quant1'].values.reshape(-1, 1))"
      ],
      "execution_count": null,
      "outputs": []
    },
    {
      "cell_type": "code",
      "metadata": {
        "id": "wV1ZiSNztaUy",
        "colab": {
          "base_uri": "https://localhost:8080/"
        },
        "outputId": "16eabd2e-634c-4171-de6b-15eedef04d52"
      },
      "source": [
        "#imprimindo normalização\n",
        "dataset[0:10]"
      ],
      "execution_count": null,
      "outputs": [
        {
          "output_type": "execute_result",
          "data": {
            "text/plain": [
              "array([[0.0440183 ],\n",
              "       [0.00875414],\n",
              "       [0.11437566],\n",
              "       [0.29349069],\n",
              "       [0.25371093],\n",
              "       [0.21798107],\n",
              "       [0.16344011],\n",
              "       [0.02849665],\n",
              "       [0.00706226],\n",
              "       [0.18033531]])"
            ]
          },
          "metadata": {},
          "execution_count": 504
        }
      ]
    },
    {
      "cell_type": "code",
      "metadata": {
        "id": "RFK6VBgetkvh",
        "colab": {
          "base_uri": "https://localhost:8080/"
        },
        "outputId": "4fb6f78f-c275-413a-c5fd-6476f66f4aa8"
      },
      "source": [
        "# split into train and test sets\n",
        "#dividindo os dados em treino e teste (70% treino e 30% para teste)\n",
        "train_size = int(len(dataset) * 0.7)\n",
        "test_size = len(dataset) - train_size\n",
        "train, test = dataset[0:train_size,:], dataset[train_size:len(dataset),:]\n",
        "print(len(train), len(test))"
      ],
      "execution_count": null,
      "outputs": [
        {
          "output_type": "stream",
          "name": "stdout",
          "text": [
            "114 50\n"
          ]
        }
      ]
    },
    {
      "cell_type": "markdown",
      "metadata": {
        "id": "p05RTsUOt_Yq"
      },
      "source": [
        "Defino a data de look back como 15 dias, que é o número de etapas de tempo anteriores para usar como variáveis de entrada para prever o próximo período de tempo "
      ]
    },
    {
      "cell_type": "code",
      "metadata": {
        "id": "9pxj3F68t9Y-"
      },
      "source": [
        "# convert an array of values into a dataset matrix\n",
        "#as medidas de impacto do Covid são de 15 dias, por isso, escolhemos um look back de 15 dias\n",
        "def create_dataset(dataset, look_back=15):\n",
        "    dataX, dataY = [], []\n",
        "    for i in range(len(dataset)-look_back-1):\n",
        "        a = dataset[i:(i+look_back), 0]\n",
        "        dataX.append(a)\n",
        "        dataY.append(dataset[i + look_back, 0])\n",
        "    return np.array(dataX), np.array(dataY)"
      ],
      "execution_count": null,
      "outputs": []
    },
    {
      "cell_type": "code",
      "metadata": {
        "id": "1EPCX_gWuEmA"
      },
      "source": [
        "#Criando as variaveis de treino de teste\n",
        "x_train, y_train = create_dataset(train, look_back=15)\n",
        "x_test, y_test = create_dataset(test, look_back=15)"
      ],
      "execution_count": null,
      "outputs": []
    },
    {
      "cell_type": "markdown",
      "metadata": {
        "id": "cBLwTg4NuOSE"
      },
      "source": [
        "A rede LSTM espera que os dados de entrada (X) sejam fornecidos com uma estrutura de array específica na forma de: [amostras, intervalos de tempo, recursos].\n",
        "\n",
        "Atualmente, esses dados estão no formato: [amostras, recursos] e estamos enquadrando o problema como uma etapa de tempo para cada amostra. Podemos transformar o trem preparado e os dados de entrada de teste na estrutura esperada usando numpy.reshape () da seguinte maneira "
      ]
    },
    {
      "cell_type": "code",
      "metadata": {
        "id": "rFVwzv3xuKc0"
      },
      "source": [
        "#Dando formato a variavel de treino e teste\n",
        "x_train = np.reshape(x_train, (x_train.shape[0], 1, x_train.shape[1]))\n",
        "x_test = np.reshape(x_test, (x_test.shape[0], 1, x_test.shape[1]))"
      ],
      "execution_count": null,
      "outputs": []
    },
    {
      "cell_type": "markdown",
      "metadata": {
        "id": "GkKxt6wDuaZo"
      },
      "source": [
        "#LSTM\n",
        "\n",
        "A rede Long Short-Term Memory, ou rede LSTM, é uma rede neural recorrente que é treinada usando Backpropagation Through Time e supera o problema do gradiente de desaparecimento.\n",
        "\n",
        "Como tal, ele pode ser usado para criar grandes redes recorrentes que, por sua vez, podem ser usadas para resolver problemas de sequência difíceis no aprendizado de máquina e obter resultados de última geração.\n",
        "\n",
        "Em vez de neurônios, as redes LSTM têm blocos de memória que são conectados por meio de camadas.\n",
        "\n",
        "Um bloco possui componentes que o tornam mais inteligente do que um neurônio clássico e uma memória para sequências recentes. Um bloco contém portas que gerenciam o estado e a saída do bloco. Um bloco opera em uma sequência de entrada e cada porta dentro de um bloco usa as unidades de ativação sigmóide para controlar se elas são disparadas ou não, tornando a mudança de estado e adição de informações que fluem através do bloco condicional.\n",
        "\n",
        "Existem três tipos de portas dentro de uma unidade:\n",
        "\n",
        "Forget Gate: decide condicionalmente quais informações jogar fora do bloco. Porta de entrada: decide condicionalmente quais valores da entrada atualizar o estado da memória. Porta de saída: decide condicionalmente o que produzir com base na entrada e na memória do bloco. Cada unidade é como uma mini-máquina de estados onde os portões das unidades possuem pesos que são aprendidos durante o procedimento de treinamento.\n",
        "\n",
        "A rede tem uma camada visível com 1 entrada, uma camada oculta com 20 blocos LSTM ou neurônios e uma camada de saída que faz uma previsão de 15 valores. A função de ativação sigmóide padrão é usada para os blocos LSTM. A rede é treinada para 20 épocas e um tamanho de lote de 1 é usado. "
      ]
    },
    {
      "cell_type": "code",
      "metadata": {
        "id": "54J7nlMDubZJ",
        "colab": {
          "base_uri": "https://localhost:8080/"
        },
        "outputId": "d21eff15-bab1-44e5-8648-32eaa07047d4"
      },
      "source": [
        "# create and fit the LSTM network\n",
        "#Criando a rede LSTM\n",
        "#hiperparametros: LSTM, Dense, optimizer\n",
        "from keras.models import Sequential\n",
        "from keras.layers import LSTM, Dense\n",
        "look_back = 15\n",
        "model = Sequential()\n",
        "model.add(LSTM(20, input_shape=(1, look_back)))\n",
        "model.add(Dense(1))\n",
        "model.compile(loss='mean_squared_error', optimizer='adam')\n",
        "model.fit(x_train, y_train, epochs=20, batch_size=1, verbose=2)"
      ],
      "execution_count": null,
      "outputs": [
        {
          "output_type": "stream",
          "name": "stdout",
          "text": [
            "Epoch 1/20\n",
            "98/98 - 2s - loss: 0.1035\n",
            "Epoch 2/20\n",
            "98/98 - 0s - loss: 0.0484\n",
            "Epoch 3/20\n",
            "98/98 - 0s - loss: 0.0402\n",
            "Epoch 4/20\n",
            "98/98 - 0s - loss: 0.0362\n",
            "Epoch 5/20\n",
            "98/98 - 0s - loss: 0.0342\n",
            "Epoch 6/20\n",
            "98/98 - 0s - loss: 0.0344\n",
            "Epoch 7/20\n",
            "98/98 - 0s - loss: 0.0327\n",
            "Epoch 8/20\n",
            "98/98 - 0s - loss: 0.0320\n",
            "Epoch 9/20\n",
            "98/98 - 0s - loss: 0.0311\n",
            "Epoch 10/20\n",
            "98/98 - 0s - loss: 0.0319\n",
            "Epoch 11/20\n",
            "98/98 - 0s - loss: 0.0323\n",
            "Epoch 12/20\n",
            "98/98 - 0s - loss: 0.0308\n",
            "Epoch 13/20\n",
            "98/98 - 0s - loss: 0.0310\n",
            "Epoch 14/20\n",
            "98/98 - 0s - loss: 0.0303\n",
            "Epoch 15/20\n",
            "98/98 - 0s - loss: 0.0294\n",
            "Epoch 16/20\n",
            "98/98 - 0s - loss: 0.0299\n",
            "Epoch 17/20\n",
            "98/98 - 0s - loss: 0.0292\n",
            "Epoch 18/20\n",
            "98/98 - 0s - loss: 0.0299\n",
            "Epoch 19/20\n",
            "98/98 - 0s - loss: 0.0282\n",
            "Epoch 20/20\n",
            "98/98 - 0s - loss: 0.0308\n"
          ]
        },
        {
          "output_type": "execute_result",
          "data": {
            "text/plain": [
              "<keras.callbacks.History at 0x7f49914c8cd0>"
            ]
          },
          "metadata": {},
          "execution_count": 509
        }
      ]
    },
    {
      "cell_type": "code",
      "metadata": {
        "id": "mqgJlKaouoOV",
        "colab": {
          "base_uri": "https://localhost:8080/"
        },
        "outputId": "79a6d27f-af0f-416b-9c28-25eaff11efb5"
      },
      "source": [
        "#Criando o modelo\n",
        "trainPredict = model.predict(x_train)\n",
        "testPredict = model.predict(x_test)\n",
        "# Prevendo os proprios dados de treino\n",
        "trainPredict = min_max_scaler.inverse_transform(trainPredict)\n",
        "trainY = min_max_scaler.inverse_transform([y_train])\n",
        "testPredict = min_max_scaler.inverse_transform(testPredict)\n",
        "testY = min_max_scaler.inverse_transform([y_test])\n",
        "# calcular raiz quadrada média do erro, como é possível ver, ele esta alto.\n",
        "#mesmo assim, vamos continuar com o modelo\n",
        "trainScore = math.sqrt(mean_squared_error(trainY[0], trainPredict[:,0]))\n",
        "print('Train Score: %.2f RMSE' % (trainScore))\n",
        "testScore = math.sqrt(mean_squared_error(testY[0], testPredict[:,0]))\n",
        "print('Test Score: %.2f RMSE' % (testScore))"
      ],
      "execution_count": null,
      "outputs": [
        {
          "output_type": "stream",
          "name": "stdout",
          "text": [
            "Train Score: 27946.14 RMSE\n",
            "Test Score: 27510.89 RMSE\n"
          ]
        }
      ]
    },
    {
      "cell_type": "code",
      "metadata": {
        "id": "MRSLjAwyuxuz",
        "colab": {
          "base_uri": "https://localhost:8080/",
          "height": 266
        },
        "outputId": "5263964e-7b25-4c6d-c186-eb95cc8a2a69"
      },
      "source": [
        "# Plotando os dados de treinamento e teste\n",
        "trainPredictPlot = np.empty_like(dataset)\n",
        "trainPredictPlot[:, :] = np.nan\n",
        "trainPredictPlot[look_back:len(trainPredict)+look_back, :] = trainPredict\n",
        "# shift test predictions for plotting\n",
        "testPredictPlot = np.empty_like(dataset)\n",
        "testPredictPlot[:, :] = np.nan\n",
        "testPredictPlot[len(trainPredict)+(look_back*2)+1:len(dataset)-1, :] = testPredict\n",
        "# plot baseline and predictions\n",
        "plt.plot(min_max_scaler.inverse_transform(dataset),label='ground True')\n",
        "plt.plot(trainPredictPlot, label='Treino')\n",
        "plt.plot(testPredictPlot, label='Predição')\n",
        "\n",
        "plt.legend()\n",
        " \n",
        "plt.show()"
      ],
      "execution_count": null,
      "outputs": [
        {
          "output_type": "display_data",
          "data": {
            "image/png": "[encoded data removed]",
            "text/plain": [
              "<Figure size 432x288 with 1 Axes>"
            ]
          },
          "metadata": {
            "needs_background": "light"
          }
        }
      ]
    },
    {
      "cell_type": "markdown",
      "metadata": {
        "id": "yMGnFtV44gK2"
      },
      "source": [
        "RMSE é a medida que calcula a raiz quadratica média dos erros entre valores observados e predições."
      ]
    },
    {
      "cell_type": "markdown",
      "metadata": {
        "id": "hYqGchRszhqQ"
      },
      "source": [
        "Podemos ver no grafico que a previsão dos dados de treino e de teste conseguiram identificar o padrão de nossos dados de entrada, já que a ocilação de subida e descida foi bem parecida em ambos os casos.\n",
        "\n",
        "Porém, a predição não foi satisfatorio já que os dados de vacinação oscilam durante uma semana, por exemplo: DUrante os finais de semana, acontecem as quedas (minimas) e durante a semana os valores máximos. Com essa ocilação o modelo pode ter aprendido apenas que depois de um certo tempo acontece uma subida e uma descida. \n",
        "\n",
        "Para compensaar essa oscilação que acontece durante a semana, podemos fazer como nós jornais informativos de covid19 e aplicar uma media movel nos dados. \n",
        "\n",
        "Agora, vamos treinar novamente nosso modelo com uma média movel de 14 dias.\n"
      ]
    },
    {
      "cell_type": "code",
      "metadata": {
        "id": "X08ExHwxpu2D",
        "colab": {
          "base_uri": "https://localhost:8080/",
          "height": 419
        },
        "outputId": "192f1283-d544-4208-c111-abe4cfc56a59"
      },
      "source": [
        "#Calculo da média móvel: media dos ultimos 14 dias\n",
        "\n",
        "df2['quant']=df2['quant1'].rolling(14).mean()\n",
        "df2=df2[df2['quant']>0]\n",
        "\n",
        "df2"
      ],
      "execution_count": null,
      "outputs": [
        {
          "output_type": "execute_result",
          "data": {
            "text/html": [
              "<div>\n",
              "<style scoped>\n",
              "    .dataframe tbody tr th:only-of-type {\n",
              "        vertical-align: middle;\n",
              "    }\n",
              "\n",
              "    .dataframe tbody tr th {\n",
              "        vertical-align: top;\n",
              "    }\n",
              "\n",
              "    .dataframe thead th {\n",
              "        text-align: right;\n",
              "    }\n",
              "</style>\n",
              "<table border=\"1\" class=\"dataframe\">\n",
              "  <thead>\n",
              "    <tr style=\"text-align: right;\">\n",
              "      <th></th>\n",
              "      <th>Unnamed: 0</th>\n",
              "      <th>quant2</th>\n",
              "      <th>data</th>\n",
              "      <th>quant1</th>\n",
              "      <th>quant</th>\n",
              "    </tr>\n",
              "  </thead>\n",
              "  <tbody>\n",
              "    <tr>\n",
              "      <th>13</th>\n",
              "      <td>13</td>\n",
              "      <td>27552</td>\n",
              "      <td>2021-03-26</td>\n",
              "      <td>94879</td>\n",
              "      <td>40301.000000</td>\n",
              "    </tr>\n",
              "    <tr>\n",
              "      <th>14</th>\n",
              "      <td>14</td>\n",
              "      <td>3473</td>\n",
              "      <td>2021-03-27</td>\n",
              "      <td>105957</td>\n",
              "      <td>47335.928571</td>\n",
              "    </tr>\n",
              "    <tr>\n",
              "      <th>15</th>\n",
              "      <td>15</td>\n",
              "      <td>963</td>\n",
              "      <td>2021-03-28</td>\n",
              "      <td>12454</td>\n",
              "      <td>48119.357143</td>\n",
              "    </tr>\n",
              "    <tr>\n",
              "      <th>16</th>\n",
              "      <td>16</td>\n",
              "      <td>18535</td>\n",
              "      <td>2021-03-29</td>\n",
              "      <td>111491</td>\n",
              "      <td>54697.071429</td>\n",
              "    </tr>\n",
              "    <tr>\n",
              "      <th>17</th>\n",
              "      <td>17</td>\n",
              "      <td>23492</td>\n",
              "      <td>2021-03-30</td>\n",
              "      <td>169635</td>\n",
              "      <td>63257.642857</td>\n",
              "    </tr>\n",
              "    <tr>\n",
              "      <th>...</th>\n",
              "      <td>...</td>\n",
              "      <td>...</td>\n",
              "      <td>...</td>\n",
              "      <td>...</td>\n",
              "      <td>...</td>\n",
              "    </tr>\n",
              "    <tr>\n",
              "      <th>159</th>\n",
              "      <td>159</td>\n",
              "      <td>47240</td>\n",
              "      <td>2021-08-17</td>\n",
              "      <td>86499</td>\n",
              "      <td>75304.928571</td>\n",
              "    </tr>\n",
              "    <tr>\n",
              "      <th>160</th>\n",
              "      <td>160</td>\n",
              "      <td>51504</td>\n",
              "      <td>2021-08-18</td>\n",
              "      <td>84450</td>\n",
              "      <td>76584.071429</td>\n",
              "    </tr>\n",
              "    <tr>\n",
              "      <th>161</th>\n",
              "      <td>161</td>\n",
              "      <td>32786</td>\n",
              "      <td>2021-08-19</td>\n",
              "      <td>98928</td>\n",
              "      <td>75292.785714</td>\n",
              "    </tr>\n",
              "    <tr>\n",
              "      <th>162</th>\n",
              "      <td>162</td>\n",
              "      <td>34986</td>\n",
              "      <td>2021-08-20</td>\n",
              "      <td>50380</td>\n",
              "      <td>71176.428571</td>\n",
              "    </tr>\n",
              "    <tr>\n",
              "      <th>163</th>\n",
              "      <td>163</td>\n",
              "      <td>5175</td>\n",
              "      <td>2021-08-21</td>\n",
              "      <td>38607</td>\n",
              "      <td>71569.500000</td>\n",
              "    </tr>\n",
              "  </tbody>\n",
              "</table>\n",
              "<p>151 rows × 5 columns</p>\n",
              "</div>"
            ],
            "text/plain": [
              "     Unnamed: 0  quant2       data  quant1         quant\n",
              "13           13   27552 2021-03-26   94879  40301.000000\n",
              "14           14    3473 2021-03-27  105957  47335.928571\n",
              "15           15     963 2021-03-28   12454  48119.357143\n",
              "16           16   18535 2021-03-29  111491  54697.071429\n",
              "17           17   23492 2021-03-30  169635  63257.642857\n",
              "..          ...     ...        ...     ...           ...\n",
              "159         159   47240 2021-08-17   86499  75304.928571\n",
              "160         160   51504 2021-08-18   84450  76584.071429\n",
              "161         161   32786 2021-08-19   98928  75292.785714\n",
              "162         162   34986 2021-08-20   50380  71176.428571\n",
              "163         163    5175 2021-08-21   38607  71569.500000\n",
              "\n",
              "[151 rows x 5 columns]"
            ]
          },
          "metadata": {},
          "execution_count": 512
        }
      ]
    },
    {
      "cell_type": "code",
      "metadata": {
        "id": "p5sItm4mqiWF",
        "colab": {
          "base_uri": "https://localhost:8080/",
          "height": 266
        },
        "outputId": "b104f652-d7c5-4fff-8f65-d0009c9ff9dd"
      },
      "source": [
        "#plotando o resultado da normalização e comparando com o valor real\n",
        "\n",
        "x=df2['data']\n",
        "y=df2['quant']\n",
        "plt.plot(x,y,label='Primeira dose  ')\n",
        "plt.legend()\n",
        "x=df2['data']\n",
        "y=df2['quant1']\n",
        "plt.plot(x,y,label='Primeira Dose Real')\n",
        "\n",
        "plt.show()"
      ],
      "execution_count": null,
      "outputs": [
        {
          "output_type": "display_data",
          "data": {
            "image/png": "[encoded data removed]",
            "text/plain": [
              "<Figure size 432x288 with 1 Axes>"
            ]
          },
          "metadata": {
            "needs_background": "light"
          }
        }
      ]
    },
    {
      "cell_type": "markdown",
      "metadata": {
        "id": "Eul-2gKZ1DHi"
      },
      "source": [
        "No gráfico podemos ver que o valor da media movel acompanha a curva de atualização diaria da vacinação. O módelo compreenderá melhor a taxa de vacinação."
      ]
    },
    {
      "cell_type": "code",
      "metadata": {
        "id": "pgt1BDXerV_O"
      },
      "source": [
        "#Fazendo a normalização dos dados - REPETINDO O PROCESSO\n",
        "min_max_scaler = preprocessing.MinMaxScaler(feature_range=(0, 1))\n",
        "dataset = min_max_scaler.fit_transform(df2['quant'].values.reshape(-1, 1))\n",
        "\n",
        "\n"
      ],
      "execution_count": null,
      "outputs": []
    },
    {
      "cell_type": "code",
      "metadata": {
        "id": "GGucI_zEru5i",
        "colab": {
          "base_uri": "https://localhost:8080/"
        },
        "outputId": "d29ca14c-0c3e-4a7a-db1b-e3b7ff9864a7"
      },
      "source": [
        "#diviindo os dados em treino e teste (70% treino e 30% para teste) - REPETINDO O PROCESSO\n",
        "train_size = int(len(dataset) * 0.7)\n",
        "test_size = len(dataset) - train_size\n",
        "train, test = dataset[0:train_size,:], dataset[train_size:len(dataset),:]\n",
        "print(len(train), len(test))"
      ],
      "execution_count": null,
      "outputs": [
        {
          "output_type": "stream",
          "name": "stdout",
          "text": [
            "105 46\n"
          ]
        }
      ]
    },
    {
      "cell_type": "code",
      "metadata": {
        "id": "Cv-Yfk3orvri"
      },
      "source": [
        "# convert an array of values into a dataset matrix\n",
        "#as medidas de impacto do Covid são de 15 dias, por isso, escolhemos um look back de 15 dias\n",
        "#- REPETINDO O PROCESSO\n",
        "def create_dataset(dataset, look_back=15):\n",
        "    dataX, dataY = [], []\n",
        "    for i in range(len(dataset)-look_back-1):\n",
        "        a = dataset[i:(i+look_back), 0]\n",
        "        dataX.append(a)\n",
        "        dataY.append(dataset[i + look_back, 0])\n",
        "    return np.array(dataX), np.array(dataY)"
      ],
      "execution_count": null,
      "outputs": []
    },
    {
      "cell_type": "code",
      "metadata": {
        "id": "7bIfVPydr1JF"
      },
      "source": [
        "#Criando as variaveis de treino de teste - REPETINDO O PROCESSO\n",
        "x_train, y_train = create_dataset(train, look_back=15)\n",
        "x_test, y_test = create_dataset(test, look_back=15)"
      ],
      "execution_count": null,
      "outputs": []
    },
    {
      "cell_type": "code",
      "metadata": {
        "id": "jebaqjuTr5y7"
      },
      "source": [
        "#Dando formato a variavel de treino e teste\n",
        "x_train = np.reshape(x_train, (x_train.shape[0], 1, x_train.shape[1]))\n",
        "x_test = np.reshape(x_test, (x_test.shape[0], 1, x_test.shape[1]))"
      ],
      "execution_count": null,
      "outputs": []
    },
    {
      "cell_type": "code",
      "metadata": {
        "id": "VInlIGqcr-Xx",
        "colab": {
          "base_uri": "https://localhost:8080/"
        },
        "outputId": "8f26393b-463b-41b9-9eb7-15072f6af5e7"
      },
      "source": [
        "# create and fit the LSTM network - REPETINDO O PROCESSO\n",
        "#Criando a rede LSTM\n",
        "#hiperparametros: LSTM, Dense, optimizer\n",
        "from keras.models import Sequential\n",
        "from keras.layers import LSTM, Dense\n",
        "look_back = 15\n",
        "model = Sequential()\n",
        "model.add(LSTM(20, input_shape=(1, look_back)))\n",
        "model.add(Dense(1))\n",
        "model.compile(loss='mean_squared_error', optimizer='adam')\n",
        "model.fit(x_train, y_train, epochs=20, batch_size=1, verbose=2)"
      ],
      "execution_count": null,
      "outputs": [
        {
          "output_type": "stream",
          "name": "stdout",
          "text": [
            "Epoch 1/20\n",
            "89/89 - 1s - loss: 0.0499\n",
            "Epoch 2/20\n",
            "89/89 - 0s - loss: 0.0269\n",
            "Epoch 3/20\n",
            "89/89 - 0s - loss: 0.0162\n",
            "Epoch 4/20\n",
            "89/89 - 0s - loss: 0.0105\n",
            "Epoch 5/20\n",
            "89/89 - 0s - loss: 0.0085\n",
            "Epoch 6/20\n",
            "89/89 - 0s - loss: 0.0078\n",
            "Epoch 7/20\n",
            "89/89 - 0s - loss: 0.0076\n",
            "Epoch 8/20\n",
            "89/89 - 0s - loss: 0.0068\n",
            "Epoch 9/20\n",
            "89/89 - 0s - loss: 0.0059\n",
            "Epoch 10/20\n",
            "89/89 - 0s - loss: 0.0051\n",
            "Epoch 11/20\n",
            "89/89 - 0s - loss: 0.0056\n",
            "Epoch 12/20\n",
            "89/89 - 0s - loss: 0.0047\n",
            "Epoch 13/20\n",
            "89/89 - 0s - loss: 0.0049\n",
            "Epoch 14/20\n",
            "89/89 - 0s - loss: 0.0044\n",
            "Epoch 15/20\n",
            "89/89 - 0s - loss: 0.0043\n",
            "Epoch 16/20\n",
            "89/89 - 0s - loss: 0.0043\n",
            "Epoch 17/20\n",
            "89/89 - 0s - loss: 0.0039\n",
            "Epoch 18/20\n",
            "89/89 - 0s - loss: 0.0039\n",
            "Epoch 19/20\n",
            "89/89 - 0s - loss: 0.0038\n",
            "Epoch 20/20\n",
            "89/89 - 0s - loss: 0.0041\n"
          ]
        },
        {
          "output_type": "execute_result",
          "data": {
            "text/plain": [
              "<keras.callbacks.History at 0x7f49942e9950>"
            ]
          },
          "metadata": {},
          "execution_count": 519
        }
      ]
    },
    {
      "cell_type": "markdown",
      "metadata": {
        "id": "6HwYAtdI1tjn"
      },
      "source": [
        "No treino do modelo com os dados sem normalização encontramos o menor valor de perda encontrado nas 20 epochs, foi de 0,0283 e no dataset normalizado, a perda, foi de 0.0049. Portanto, a perda foi menor com os dados normalizados. "
      ]
    },
    {
      "cell_type": "code",
      "metadata": {
        "id": "ochGDh4usEzO",
        "colab": {
          "base_uri": "https://localhost:8080/"
        },
        "outputId": "d6019ba8-fd69-4e92-85d4-2010f70ef509"
      },
      "source": [
        "#Criando o modelo\n",
        "trainPredict = model.predict(x_train)\n",
        "testPredict = model.predict(x_test)\n",
        "# Prevendo os proprios dados de treino\n",
        "trainPredict = min_max_scaler.inverse_transform(trainPredict)\n",
        "trainY = min_max_scaler.inverse_transform([y_train])\n",
        "testPredict = min_max_scaler.inverse_transform(testPredict)\n",
        "testY = min_max_scaler.inverse_transform([y_test])\n",
        "# calcular raiz quadrada média do erro. Notamos que ele esta alto.\n",
        "trainScore = math.sqrt(mean_squared_error(trainY[0], trainPredict[:,0]))\n",
        "print('Train Score: %.2f RMSE' % (trainScore))\n",
        "testScore = math.sqrt(mean_squared_error(testY[0], testPredict[:,0]))\n",
        "print('Test Score: %.2f RMSE' % (testScore))"
      ],
      "execution_count": null,
      "outputs": [
        {
          "output_type": "stream",
          "name": "stdout",
          "text": [
            "Train Score: 3255.75 RMSE\n",
            "Test Score: 3373.79 RMSE\n"
          ]
        }
      ]
    },
    {
      "cell_type": "code",
      "metadata": {
        "id": "xiW6Do90sMqQ",
        "colab": {
          "base_uri": "https://localhost:8080/",
          "height": 265
        },
        "outputId": "6eef419a-edb2-4c05-a165-3dae2f5054f7"
      },
      "source": [
        "# PLOTANDO\n",
        "trainPredictPlot = np.empty_like(dataset)\n",
        "trainPredictPlot[:, :] = np.nan\n",
        "trainPredictPlot[look_back:len(trainPredict)+look_back, :] = trainPredict\n",
        "# shift test predictions for plotting\n",
        "testPredictPlot = np.empty_like(dataset)\n",
        "testPredictPlot[:, :] = np.nan\n",
        "testPredictPlot[len(trainPredict)+(look_back*2)+1:len(dataset)-1, :] = testPredict\n",
        "# plot baseline and predictions\n",
        "plt.plot(min_max_scaler.inverse_transform(dataset),label='ground True')\n",
        "plt.plot(trainPredictPlot, label='Treino')\n",
        "plt.plot(testPredictPlot, label='Predição')\n",
        "\n",
        "plt.legend()\n",
        " \n",
        "plt.show()"
      ],
      "execution_count": null,
      "outputs": [
        {
          "output_type": "display_data",
          "data": {
            "image/png": "[encoded data removed]",
            "text/plain": [
              "<Figure size 432x288 with 1 Axes>"
            ]
          },
          "metadata": {
            "needs_background": "light"
          }
        }
      ]
    },
    {
      "cell_type": "markdown",
      "metadata": {
        "id": "gpt-EXyQ2kj4"
      },
      "source": [
        "No grafico acima, nota-se que nosso modelo de predição conseguiu acompanha nossos dados normalizados (ground Truth). Indicando que a teoria de tratamento dados para dados de treino e teste, foi valida.\n",
        "\n",
        "Poderiamos chegar a taxas ainda melhores se houvessemos um periodo de vacinação maior, pois acarretaria em um maior dataset e com isso, mais dados para treino do nosso modelo."
      ]
    },
    {
      "cell_type": "markdown",
      "metadata": {
        "id": "raZsZPe96H7u"
      },
      "source": [
        "Referências:\n",
        "\n",
        "https://keras.io/examples/\n",
        "\n",
        "https://cloud.google.com/ai-platform/docs/getting-started-keras?hl=pt-br\n",
        "\n",
        "https://scikit-learn.org/\n",
        "\n",
        "https://www.analyticsvidhya.com/blog/2021/05/analyze-covid-vaccination-progress-using-python/\n",
        "\n",
        "https://medium.com/turing-talks/turing-talks-27-modelos-de-predição-lstm-df85d87ad210\n",
        "\n",
        "https://medium.com/turing-talks/turing-talks-27-modelos-de-predição-lstm-df85d87ad210\n",
        "\n",
        "https://towardsdatascience.com/time-series-forecasting-with-recurrent-neural-networks-74674e289816\n",
        "\n",
        "https://towardsdatascience.com/time-series-prediction-beyond-test-data-3f4625019fd9\n",
        "\n",
        "https://towardsdatascience.com/time-series-prediction-beyond-test-data-3f4625019fd9\n",
        "\n",
        "https://www.kaggle.com/hassanamin/time-series-analysis-using-lstm-keras/notebook\n",
        "\n",
        "https://www.kite.com/python/answers/how-to-download-a-csv-file-from-a-url-in-python\n",
        "\n"
      ]
    }
  ]
}